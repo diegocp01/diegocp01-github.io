{
  "nbformat": 4,
  "nbformat_minor": 0,
  "metadata": {
    "colab": {
      "provenance": [],
      "authorship_tag": "ABX9TyO72b3udw2Y4fafbevFFwZv",
      "include_colab_link": true
    },
    "kernelspec": {
      "name": "python3",
      "display_name": "Python 3"
    },
    "language_info": {
      "name": "python"
    }
  },
  "cells": [
    {
      "cell_type": "markdown",
      "metadata": {
        "id": "view-in-github",
        "colab_type": "text"
      },
      "source": [
        "<a href=\"https://colab.research.google.com/github/diegocp01/diegocp01-github.io/blob/main/Regression_assessment.ipynb\" target=\"_parent\"><img src=\"https://colab.research.google.com/assets/colab-badge.svg\" alt=\"Open In Colab\"/></a>"
      ]
    },
    {
      "cell_type": "markdown",
      "source": [
        "# Regression model comparing ols and knn\n",
        "# Apple Stock till 5/31/24"
      ],
      "metadata": {
        "id": "XuCMtv475Ic3"
      }
    },
    {
      "cell_type": "markdown",
      "source": [
        "## Load and Preprocess the Data"
      ],
      "metadata": {
        "id": "9p1ER0Cf-KH8"
      }
    },
    {
      "cell_type": "code",
      "execution_count": 9,
      "metadata": {
        "id": "FjwGZJhw43YN"
      },
      "outputs": [],
      "source": [
        "import matplotlib.pyplot as plt\n",
        "import numpy as np\n",
        "import pandas as pd\n",
        "import statsmodels.api as sm\n",
        "from sklearn import neighbors\n",
        "from sklearn.model_selection import train_test_split\n",
        "from sklearn.linear_model import LinearRegression\n",
        "from sklearn.neighbors import KNeighborsRegressor\n",
        "from sklearn.metrics import mean_squared_error, r2_score\n",
        "import seaborn as sns"
      ]
    },
    {
      "cell_type": "code",
      "source": [
        "df = pd.read_csv('/content/AAPL.csv')\n"
      ],
      "metadata": {
        "id": "w4bKSByL5y4N"
      },
      "execution_count": 3,
      "outputs": []
    },
    {
      "cell_type": "code",
      "source": [
        "df"
      ],
      "metadata": {
        "colab": {
          "base_uri": "https://localhost:8080/",
          "height": 419
        },
        "id": "-mGXkN3d6myz",
        "outputId": "7ed32dc7-2c08-4f00-d34f-d2c6c6e42ab6"
      },
      "execution_count": 5,
      "outputs": [
        {
          "output_type": "execute_result",
          "data": {
            "text/plain": [
              "           Date        Open        High         Low       Close   Adj Close  \\\n",
              "0    2023-05-31  177.330002  179.350006  176.759995  177.250000  176.313629   \n",
              "1    2023-06-01  177.699997  180.119995  176.929993  180.089996  179.138626   \n",
              "2    2023-06-02  181.029999  181.779999  179.259995  180.949997  179.994080   \n",
              "3    2023-06-05  182.630005  184.949997  178.039993  179.580002  178.631317   \n",
              "4    2023-06-06  179.970001  180.119995  177.429993  179.210007  178.263290   \n",
              "..          ...         ...         ...         ...         ...         ...   \n",
              "248  2024-05-24  188.820007  190.580002  188.039993  189.979996  189.979996   \n",
              "249  2024-05-28  191.509995  193.000000  189.100006  189.990005  189.990005   \n",
              "250  2024-05-29  189.610001  192.250000  189.509995  190.289993  190.289993   \n",
              "251  2024-05-30  190.759995  192.179993  190.630005  191.289993  191.289993   \n",
              "252  2024-05-31  191.440002  192.539505  191.289993  192.270004  192.270004   \n",
              "\n",
              "        Volume  \n",
              "0     99625300  \n",
              "1     68901800  \n",
              "2     61945900  \n",
              "3    121946500  \n",
              "4     64848400  \n",
              "..         ...  \n",
              "248   36294600  \n",
              "249   52280100  \n",
              "250   53068000  \n",
              "251   49889100  \n",
              "252    4214922  \n",
              "\n",
              "[253 rows x 7 columns]"
            ],
            "text/html": [
              "\n",
              "  <div id=\"df-2bdcbdda-fe31-4399-bb2a-c2aacf281766\" class=\"colab-df-container\">\n",
              "    <div>\n",
              "<style scoped>\n",
              "    .dataframe tbody tr th:only-of-type {\n",
              "        vertical-align: middle;\n",
              "    }\n",
              "\n",
              "    .dataframe tbody tr th {\n",
              "        vertical-align: top;\n",
              "    }\n",
              "\n",
              "    .dataframe thead th {\n",
              "        text-align: right;\n",
              "    }\n",
              "</style>\n",
              "<table border=\"1\" class=\"dataframe\">\n",
              "  <thead>\n",
              "    <tr style=\"text-align: right;\">\n",
              "      <th></th>\n",
              "      <th>Date</th>\n",
              "      <th>Open</th>\n",
              "      <th>High</th>\n",
              "      <th>Low</th>\n",
              "      <th>Close</th>\n",
              "      <th>Adj Close</th>\n",
              "      <th>Volume</th>\n",
              "    </tr>\n",
              "  </thead>\n",
              "  <tbody>\n",
              "    <tr>\n",
              "      <th>0</th>\n",
              "      <td>2023-05-31</td>\n",
              "      <td>177.330002</td>\n",
              "      <td>179.350006</td>\n",
              "      <td>176.759995</td>\n",
              "      <td>177.250000</td>\n",
              "      <td>176.313629</td>\n",
              "      <td>99625300</td>\n",
              "    </tr>\n",
              "    <tr>\n",
              "      <th>1</th>\n",
              "      <td>2023-06-01</td>\n",
              "      <td>177.699997</td>\n",
              "      <td>180.119995</td>\n",
              "      <td>176.929993</td>\n",
              "      <td>180.089996</td>\n",
              "      <td>179.138626</td>\n",
              "      <td>68901800</td>\n",
              "    </tr>\n",
              "    <tr>\n",
              "      <th>2</th>\n",
              "      <td>2023-06-02</td>\n",
              "      <td>181.029999</td>\n",
              "      <td>181.779999</td>\n",
              "      <td>179.259995</td>\n",
              "      <td>180.949997</td>\n",
              "      <td>179.994080</td>\n",
              "      <td>61945900</td>\n",
              "    </tr>\n",
              "    <tr>\n",
              "      <th>3</th>\n",
              "      <td>2023-06-05</td>\n",
              "      <td>182.630005</td>\n",
              "      <td>184.949997</td>\n",
              "      <td>178.039993</td>\n",
              "      <td>179.580002</td>\n",
              "      <td>178.631317</td>\n",
              "      <td>121946500</td>\n",
              "    </tr>\n",
              "    <tr>\n",
              "      <th>4</th>\n",
              "      <td>2023-06-06</td>\n",
              "      <td>179.970001</td>\n",
              "      <td>180.119995</td>\n",
              "      <td>177.429993</td>\n",
              "      <td>179.210007</td>\n",
              "      <td>178.263290</td>\n",
              "      <td>64848400</td>\n",
              "    </tr>\n",
              "    <tr>\n",
              "      <th>...</th>\n",
              "      <td>...</td>\n",
              "      <td>...</td>\n",
              "      <td>...</td>\n",
              "      <td>...</td>\n",
              "      <td>...</td>\n",
              "      <td>...</td>\n",
              "      <td>...</td>\n",
              "    </tr>\n",
              "    <tr>\n",
              "      <th>248</th>\n",
              "      <td>2024-05-24</td>\n",
              "      <td>188.820007</td>\n",
              "      <td>190.580002</td>\n",
              "      <td>188.039993</td>\n",
              "      <td>189.979996</td>\n",
              "      <td>189.979996</td>\n",
              "      <td>36294600</td>\n",
              "    </tr>\n",
              "    <tr>\n",
              "      <th>249</th>\n",
              "      <td>2024-05-28</td>\n",
              "      <td>191.509995</td>\n",
              "      <td>193.000000</td>\n",
              "      <td>189.100006</td>\n",
              "      <td>189.990005</td>\n",
              "      <td>189.990005</td>\n",
              "      <td>52280100</td>\n",
              "    </tr>\n",
              "    <tr>\n",
              "      <th>250</th>\n",
              "      <td>2024-05-29</td>\n",
              "      <td>189.610001</td>\n",
              "      <td>192.250000</td>\n",
              "      <td>189.509995</td>\n",
              "      <td>190.289993</td>\n",
              "      <td>190.289993</td>\n",
              "      <td>53068000</td>\n",
              "    </tr>\n",
              "    <tr>\n",
              "      <th>251</th>\n",
              "      <td>2024-05-30</td>\n",
              "      <td>190.759995</td>\n",
              "      <td>192.179993</td>\n",
              "      <td>190.630005</td>\n",
              "      <td>191.289993</td>\n",
              "      <td>191.289993</td>\n",
              "      <td>49889100</td>\n",
              "    </tr>\n",
              "    <tr>\n",
              "      <th>252</th>\n",
              "      <td>2024-05-31</td>\n",
              "      <td>191.440002</td>\n",
              "      <td>192.539505</td>\n",
              "      <td>191.289993</td>\n",
              "      <td>192.270004</td>\n",
              "      <td>192.270004</td>\n",
              "      <td>4214922</td>\n",
              "    </tr>\n",
              "  </tbody>\n",
              "</table>\n",
              "<p>253 rows × 7 columns</p>\n",
              "</div>\n",
              "    <div class=\"colab-df-buttons\">\n",
              "\n",
              "  <div class=\"colab-df-container\">\n",
              "    <button class=\"colab-df-convert\" onclick=\"convertToInteractive('df-2bdcbdda-fe31-4399-bb2a-c2aacf281766')\"\n",
              "            title=\"Convert this dataframe to an interactive table.\"\n",
              "            style=\"display:none;\">\n",
              "\n",
              "  <svg xmlns=\"http://www.w3.org/2000/svg\" height=\"24px\" viewBox=\"0 -960 960 960\">\n",
              "    <path d=\"M120-120v-720h720v720H120Zm60-500h600v-160H180v160Zm220 220h160v-160H400v160Zm0 220h160v-160H400v160ZM180-400h160v-160H180v160Zm440 0h160v-160H620v160ZM180-180h160v-160H180v160Zm440 0h160v-160H620v160Z\"/>\n",
              "  </svg>\n",
              "    </button>\n",
              "\n",
              "  <style>\n",
              "    .colab-df-container {\n",
              "      display:flex;\n",
              "      gap: 12px;\n",
              "    }\n",
              "\n",
              "    .colab-df-convert {\n",
              "      background-color: #E8F0FE;\n",
              "      border: none;\n",
              "      border-radius: 50%;\n",
              "      cursor: pointer;\n",
              "      display: none;\n",
              "      fill: #1967D2;\n",
              "      height: 32px;\n",
              "      padding: 0 0 0 0;\n",
              "      width: 32px;\n",
              "    }\n",
              "\n",
              "    .colab-df-convert:hover {\n",
              "      background-color: #E2EBFA;\n",
              "      box-shadow: 0px 1px 2px rgba(60, 64, 67, 0.3), 0px 1px 3px 1px rgba(60, 64, 67, 0.15);\n",
              "      fill: #174EA6;\n",
              "    }\n",
              "\n",
              "    .colab-df-buttons div {\n",
              "      margin-bottom: 4px;\n",
              "    }\n",
              "\n",
              "    [theme=dark] .colab-df-convert {\n",
              "      background-color: #3B4455;\n",
              "      fill: #D2E3FC;\n",
              "    }\n",
              "\n",
              "    [theme=dark] .colab-df-convert:hover {\n",
              "      background-color: #434B5C;\n",
              "      box-shadow: 0px 1px 3px 1px rgba(0, 0, 0, 0.15);\n",
              "      filter: drop-shadow(0px 1px 2px rgba(0, 0, 0, 0.3));\n",
              "      fill: #FFFFFF;\n",
              "    }\n",
              "  </style>\n",
              "\n",
              "    <script>\n",
              "      const buttonEl =\n",
              "        document.querySelector('#df-2bdcbdda-fe31-4399-bb2a-c2aacf281766 button.colab-df-convert');\n",
              "      buttonEl.style.display =\n",
              "        google.colab.kernel.accessAllowed ? 'block' : 'none';\n",
              "\n",
              "      async function convertToInteractive(key) {\n",
              "        const element = document.querySelector('#df-2bdcbdda-fe31-4399-bb2a-c2aacf281766');\n",
              "        const dataTable =\n",
              "          await google.colab.kernel.invokeFunction('convertToInteractive',\n",
              "                                                    [key], {});\n",
              "        if (!dataTable) return;\n",
              "\n",
              "        const docLinkHtml = 'Like what you see? Visit the ' +\n",
              "          '<a target=\"_blank\" href=https://colab.research.google.com/notebooks/data_table.ipynb>data table notebook</a>'\n",
              "          + ' to learn more about interactive tables.';\n",
              "        element.innerHTML = '';\n",
              "        dataTable['output_type'] = 'display_data';\n",
              "        await google.colab.output.renderOutput(dataTable, element);\n",
              "        const docLink = document.createElement('div');\n",
              "        docLink.innerHTML = docLinkHtml;\n",
              "        element.appendChild(docLink);\n",
              "      }\n",
              "    </script>\n",
              "  </div>\n",
              "\n",
              "\n",
              "<div id=\"df-4cbfe5d4-caa0-4872-899c-bcdb51cac418\">\n",
              "  <button class=\"colab-df-quickchart\" onclick=\"quickchart('df-4cbfe5d4-caa0-4872-899c-bcdb51cac418')\"\n",
              "            title=\"Suggest charts\"\n",
              "            style=\"display:none;\">\n",
              "\n",
              "<svg xmlns=\"http://www.w3.org/2000/svg\" height=\"24px\"viewBox=\"0 0 24 24\"\n",
              "     width=\"24px\">\n",
              "    <g>\n",
              "        <path d=\"M19 3H5c-1.1 0-2 .9-2 2v14c0 1.1.9 2 2 2h14c1.1 0 2-.9 2-2V5c0-1.1-.9-2-2-2zM9 17H7v-7h2v7zm4 0h-2V7h2v10zm4 0h-2v-4h2v4z\"/>\n",
              "    </g>\n",
              "</svg>\n",
              "  </button>\n",
              "\n",
              "<style>\n",
              "  .colab-df-quickchart {\n",
              "      --bg-color: #E8F0FE;\n",
              "      --fill-color: #1967D2;\n",
              "      --hover-bg-color: #E2EBFA;\n",
              "      --hover-fill-color: #174EA6;\n",
              "      --disabled-fill-color: #AAA;\n",
              "      --disabled-bg-color: #DDD;\n",
              "  }\n",
              "\n",
              "  [theme=dark] .colab-df-quickchart {\n",
              "      --bg-color: #3B4455;\n",
              "      --fill-color: #D2E3FC;\n",
              "      --hover-bg-color: #434B5C;\n",
              "      --hover-fill-color: #FFFFFF;\n",
              "      --disabled-bg-color: #3B4455;\n",
              "      --disabled-fill-color: #666;\n",
              "  }\n",
              "\n",
              "  .colab-df-quickchart {\n",
              "    background-color: var(--bg-color);\n",
              "    border: none;\n",
              "    border-radius: 50%;\n",
              "    cursor: pointer;\n",
              "    display: none;\n",
              "    fill: var(--fill-color);\n",
              "    height: 32px;\n",
              "    padding: 0;\n",
              "    width: 32px;\n",
              "  }\n",
              "\n",
              "  .colab-df-quickchart:hover {\n",
              "    background-color: var(--hover-bg-color);\n",
              "    box-shadow: 0 1px 2px rgba(60, 64, 67, 0.3), 0 1px 3px 1px rgba(60, 64, 67, 0.15);\n",
              "    fill: var(--button-hover-fill-color);\n",
              "  }\n",
              "\n",
              "  .colab-df-quickchart-complete:disabled,\n",
              "  .colab-df-quickchart-complete:disabled:hover {\n",
              "    background-color: var(--disabled-bg-color);\n",
              "    fill: var(--disabled-fill-color);\n",
              "    box-shadow: none;\n",
              "  }\n",
              "\n",
              "  .colab-df-spinner {\n",
              "    border: 2px solid var(--fill-color);\n",
              "    border-color: transparent;\n",
              "    border-bottom-color: var(--fill-color);\n",
              "    animation:\n",
              "      spin 1s steps(1) infinite;\n",
              "  }\n",
              "\n",
              "  @keyframes spin {\n",
              "    0% {\n",
              "      border-color: transparent;\n",
              "      border-bottom-color: var(--fill-color);\n",
              "      border-left-color: var(--fill-color);\n",
              "    }\n",
              "    20% {\n",
              "      border-color: transparent;\n",
              "      border-left-color: var(--fill-color);\n",
              "      border-top-color: var(--fill-color);\n",
              "    }\n",
              "    30% {\n",
              "      border-color: transparent;\n",
              "      border-left-color: var(--fill-color);\n",
              "      border-top-color: var(--fill-color);\n",
              "      border-right-color: var(--fill-color);\n",
              "    }\n",
              "    40% {\n",
              "      border-color: transparent;\n",
              "      border-right-color: var(--fill-color);\n",
              "      border-top-color: var(--fill-color);\n",
              "    }\n",
              "    60% {\n",
              "      border-color: transparent;\n",
              "      border-right-color: var(--fill-color);\n",
              "    }\n",
              "    80% {\n",
              "      border-color: transparent;\n",
              "      border-right-color: var(--fill-color);\n",
              "      border-bottom-color: var(--fill-color);\n",
              "    }\n",
              "    90% {\n",
              "      border-color: transparent;\n",
              "      border-bottom-color: var(--fill-color);\n",
              "    }\n",
              "  }\n",
              "</style>\n",
              "\n",
              "  <script>\n",
              "    async function quickchart(key) {\n",
              "      const quickchartButtonEl =\n",
              "        document.querySelector('#' + key + ' button');\n",
              "      quickchartButtonEl.disabled = true;  // To prevent multiple clicks.\n",
              "      quickchartButtonEl.classList.add('colab-df-spinner');\n",
              "      try {\n",
              "        const charts = await google.colab.kernel.invokeFunction(\n",
              "            'suggestCharts', [key], {});\n",
              "      } catch (error) {\n",
              "        console.error('Error during call to suggestCharts:', error);\n",
              "      }\n",
              "      quickchartButtonEl.classList.remove('colab-df-spinner');\n",
              "      quickchartButtonEl.classList.add('colab-df-quickchart-complete');\n",
              "    }\n",
              "    (() => {\n",
              "      let quickchartButtonEl =\n",
              "        document.querySelector('#df-4cbfe5d4-caa0-4872-899c-bcdb51cac418 button');\n",
              "      quickchartButtonEl.style.display =\n",
              "        google.colab.kernel.accessAllowed ? 'block' : 'none';\n",
              "    })();\n",
              "  </script>\n",
              "</div>\n",
              "\n",
              "  <div id=\"id_1c0e0cb1-c261-486a-a503-5734e727203b\">\n",
              "    <style>\n",
              "      .colab-df-generate {\n",
              "        background-color: #E8F0FE;\n",
              "        border: none;\n",
              "        border-radius: 50%;\n",
              "        cursor: pointer;\n",
              "        display: none;\n",
              "        fill: #1967D2;\n",
              "        height: 32px;\n",
              "        padding: 0 0 0 0;\n",
              "        width: 32px;\n",
              "      }\n",
              "\n",
              "      .colab-df-generate:hover {\n",
              "        background-color: #E2EBFA;\n",
              "        box-shadow: 0px 1px 2px rgba(60, 64, 67, 0.3), 0px 1px 3px 1px rgba(60, 64, 67, 0.15);\n",
              "        fill: #174EA6;\n",
              "      }\n",
              "\n",
              "      [theme=dark] .colab-df-generate {\n",
              "        background-color: #3B4455;\n",
              "        fill: #D2E3FC;\n",
              "      }\n",
              "\n",
              "      [theme=dark] .colab-df-generate:hover {\n",
              "        background-color: #434B5C;\n",
              "        box-shadow: 0px 1px 3px 1px rgba(0, 0, 0, 0.15);\n",
              "        filter: drop-shadow(0px 1px 2px rgba(0, 0, 0, 0.3));\n",
              "        fill: #FFFFFF;\n",
              "      }\n",
              "    </style>\n",
              "    <button class=\"colab-df-generate\" onclick=\"generateWithVariable('df')\"\n",
              "            title=\"Generate code using this dataframe.\"\n",
              "            style=\"display:none;\">\n",
              "\n",
              "  <svg xmlns=\"http://www.w3.org/2000/svg\" height=\"24px\"viewBox=\"0 0 24 24\"\n",
              "       width=\"24px\">\n",
              "    <path d=\"M7,19H8.4L18.45,9,17,7.55,7,17.6ZM5,21V16.75L18.45,3.32a2,2,0,0,1,2.83,0l1.4,1.43a1.91,1.91,0,0,1,.58,1.4,1.91,1.91,0,0,1-.58,1.4L9.25,21ZM18.45,9,17,7.55Zm-12,3A5.31,5.31,0,0,0,4.9,8.1,5.31,5.31,0,0,0,1,6.5,5.31,5.31,0,0,0,4.9,4.9,5.31,5.31,0,0,0,6.5,1,5.31,5.31,0,0,0,8.1,4.9,5.31,5.31,0,0,0,12,6.5,5.46,5.46,0,0,0,6.5,12Z\"/>\n",
              "  </svg>\n",
              "    </button>\n",
              "    <script>\n",
              "      (() => {\n",
              "      const buttonEl =\n",
              "        document.querySelector('#id_1c0e0cb1-c261-486a-a503-5734e727203b button.colab-df-generate');\n",
              "      buttonEl.style.display =\n",
              "        google.colab.kernel.accessAllowed ? 'block' : 'none';\n",
              "\n",
              "      buttonEl.onclick = () => {\n",
              "        google.colab.notebook.generateWithVariable('df');\n",
              "      }\n",
              "      })();\n",
              "    </script>\n",
              "  </div>\n",
              "\n",
              "    </div>\n",
              "  </div>\n"
            ],
            "application/vnd.google.colaboratory.intrinsic+json": {
              "type": "dataframe",
              "variable_name": "df",
              "summary": "{\n  \"name\": \"df\",\n  \"rows\": 253,\n  \"fields\": [\n    {\n      \"column\": \"Date\",\n      \"properties\": {\n        \"dtype\": \"object\",\n        \"num_unique_values\": 253,\n        \"samples\": [\n          \"2024-03-28\",\n          \"2023-06-08\",\n          \"2023-09-22\"\n        ],\n        \"semantic_type\": \"\",\n        \"description\": \"\"\n      }\n    },\n    {\n      \"column\": \"Open\",\n      \"properties\": {\n        \"dtype\": \"number\",\n        \"std\": 8.506992706255224,\n        \"min\": 165.350006,\n        \"max\": 198.020004,\n        \"num_unique_values\": 241,\n        \"samples\": [\n          189.839996,\n          177.899994,\n          169.580002\n        ],\n        \"semantic_type\": \"\",\n        \"description\": \"\"\n      }\n    },\n    {\n      \"column\": \"High\",\n      \"properties\": {\n        \"dtype\": \"number\",\n        \"std\": 8.32192570621322,\n        \"min\": 166.399994,\n        \"max\": 199.619995,\n        \"num_unique_values\": 244,\n        \"samples\": [\n          192.669998,\n          182.229996,\n          184.259995\n        ],\n        \"semantic_type\": \"\",\n        \"description\": \"\"\n      }\n    },\n    {\n      \"column\": \"Low\",\n      \"properties\": {\n        \"dtype\": \"number\",\n        \"std\": 8.516652117574655,\n        \"min\": 164.080002,\n        \"max\": 197.0,\n        \"num_unique_values\": 250,\n        \"samples\": [\n          192.970001,\n          177.460007,\n          175.190002\n        ],\n        \"semantic_type\": \"\",\n        \"description\": \"\"\n      }\n    },\n    {\n      \"column\": \"Close\",\n      \"properties\": {\n        \"dtype\": \"number\",\n        \"std\": 8.458591647545576,\n        \"min\": 165.0,\n        \"max\": 198.110001,\n        \"num_unique_values\": 245,\n        \"samples\": [\n          191.809998,\n          180.570007,\n          183.630005\n        ],\n        \"semantic_type\": \"\",\n        \"description\": \"\"\n      }\n    },\n    {\n      \"column\": \"Adj Close\",\n      \"properties\": {\n        \"dtype\": \"number\",\n        \"std\": 8.393668738225871,\n        \"min\": 164.776505,\n        \"max\": 197.589523,\n        \"num_unique_values\": 251,\n        \"samples\": [\n          185.431549,\n          179.616119,\n          191.914474\n        ],\n        \"semantic_type\": \"\",\n        \"description\": \"\"\n      }\n    },\n    {\n      \"column\": \"Volume\",\n      \"properties\": {\n        \"dtype\": \"number\",\n        \"std\": 19052832,\n        \"min\": 4214922,\n        \"max\": 163224100,\n        \"num_unique_values\": 253,\n        \"samples\": [\n          65672700,\n          50214900,\n          56725400\n        ],\n        \"semantic_type\": \"\",\n        \"description\": \"\"\n      }\n    }\n  ]\n}"
            }
          },
          "metadata": {},
          "execution_count": 5
        }
      ]
    },
    {
      "cell_type": "markdown",
      "source": [
        "### Check missing values EDA, correlations, plots and more----"
      ],
      "metadata": {
        "id": "I3BN5EJ2-PC-"
      }
    },
    {
      "cell_type": "markdown",
      "source": [
        "## Prepare the Data for Modeling"
      ],
      "metadata": {
        "id": "irmxWzOQ-Y1P"
      }
    },
    {
      "cell_type": "code",
      "source": [
        "# Selecting features and target variable\n",
        "features = ['Open', 'High', 'Low', 'Volume']\n",
        "X = df[features]\n",
        "y = df['Close']\n",
        "\n",
        "# Splitting the data into training and testing sets\n",
        "X_train, X_test, y_train, y_test = train_test_split(X, y, test_size=0.2, random_state=42)\n",
        "\n",
        "X_train.shape, X_test.shape, y_train.shape, y_test.shape"
      ],
      "metadata": {
        "colab": {
          "base_uri": "https://localhost:8080/"
        },
        "id": "7JjFuda562AP",
        "outputId": "e90f651f-744f-4167-9398-7003f8ce0187"
      },
      "execution_count": 15,
      "outputs": [
        {
          "output_type": "execute_result",
          "data": {
            "text/plain": [
              "((202, 4), (51, 4), (202,), (51,))"
            ]
          },
          "metadata": {},
          "execution_count": 15
        }
      ]
    },
    {
      "cell_type": "markdown",
      "source": [
        "## Build and Train the Models"
      ],
      "metadata": {
        "id": "RKeBMhLF-eEK"
      }
    },
    {
      "cell_type": "markdown",
      "source": [
        "### OLS\n"
      ],
      "metadata": {
        "id": "gcJSwqKJ-jKc"
      }
    },
    {
      "cell_type": "code",
      "source": [
        "# Initialize and train the OLS regression model\n",
        "ols_model = LinearRegression()\n",
        "ols_model.fit(X_train, y_train)\n",
        "\n",
        "# Make predictions\n",
        "y_pred_ols = ols_model.predict(X_test)"
      ],
      "metadata": {
        "id": "F-Ro9VqX70zi"
      },
      "execution_count": 7,
      "outputs": []
    },
    {
      "cell_type": "markdown",
      "source": [
        "### KNN R"
      ],
      "metadata": {
        "id": "F-3AyKsK_B2B"
      }
    },
    {
      "cell_type": "code",
      "source": [
        "\n",
        "# Initialize and train the KNN regression model\n",
        "knn_model = KNeighborsRegressor(n_neighbors=5)\n",
        "knn_model.fit(X_train, y_train)\n",
        "\n",
        "# Make predictions\n",
        "y_pred_knn = knn_model.predict(X_test)"
      ],
      "metadata": {
        "id": "ThY359vt-mVv"
      },
      "execution_count": 10,
      "outputs": []
    },
    {
      "cell_type": "markdown",
      "source": [
        "## Evaluate the Models"
      ],
      "metadata": {
        "id": "BInWhEoI_bIA"
      }
    },
    {
      "cell_type": "code",
      "source": [
        "# Evaluate OLS model\n",
        "mse_ols = mean_squared_error(y_test, y_pred_ols)\n",
        "r2_ols = r2_score(y_test, y_pred_ols)\n",
        "\n",
        "# Evaluate KNN model\n",
        "mse_knn = mean_squared_error(y_test, y_pred_knn)\n",
        "r2_knn = r2_score(y_test, y_pred_knn)\n",
        "\n",
        "print(f'OLS Regression - MSE: {mse_ols}, R²: {r2_ols}')\n",
        "print(f'KNN Regression - MSE: {mse_knn}, R²: {r2_knn}')"
      ],
      "metadata": {
        "colab": {
          "base_uri": "https://localhost:8080/"
        },
        "id": "lwP4HSjd_Fiv",
        "outputId": "7fc8d01d-b37a-46f2-eb80-e7225f2bbb34"
      },
      "execution_count": 11,
      "outputs": [
        {
          "output_type": "stream",
          "name": "stdout",
          "text": [
            "OLS Regression - MSE: 0.7720292538500014, R²: 0.9895994640579348\n",
            "KNN Regression - MSE: 78.77356962273824, R²: -0.06121282070646239\n"
          ]
        }
      ]
    },
    {
      "cell_type": "markdown",
      "source": [
        "## Visualize the Results"
      ],
      "metadata": {
        "id": "U38LfjvW_gPL"
      }
    },
    {
      "cell_type": "code",
      "source": [
        "plt.figure(figsize=(14, 7))\n",
        "\n",
        "# Plot OLS results\n",
        "plt.subplot(1, 2, 1)\n",
        "plt.scatter(y_test, y_pred_ols, alpha=0.5)\n",
        "plt.plot([y_test.min(), y_test.max()], [y_test.min(), y_test.max()], '--r', linewidth=2)\n",
        "plt.xlabel('Actual')\n",
        "plt.ylabel('Predicted')\n",
        "plt.title('OLS Regression')\n",
        "\n",
        "# Plot KNN results\n",
        "plt.subplot(1, 2, 2)\n",
        "plt.scatter(y_test, y_pred_knn, alpha=0.5)\n",
        "plt.plot([y_test.min(), y_test.max()], [y_test.min(), y_test.max()], '--r', linewidth=2)\n",
        "plt.xlabel('Actual')\n",
        "plt.ylabel('Predicted')\n",
        "plt.title('KNN Regression')\n",
        "\n",
        "plt.show()"
      ],
      "metadata": {
        "colab": {
          "base_uri": "https://localhost:8080/",
          "height": 412
        },
        "id": "AlT2o_gy_ePM",
        "outputId": "4fdad121-e492-4ae2-d036-b811dc47fc4d"
      },
      "execution_count": 12,
      "outputs": [
        {
          "output_type": "display_data",
          "data": {
            "text/plain": [
              "<Figure size 1400x700 with 2 Axes>"
            ],
            "image/png": "[encoded data removed]"
          },
          "metadata": {}
        }
      ]
    },
    {
      "cell_type": "markdown",
      "source": [
        "## Analysis and Conclusion"
      ],
      "metadata": {
        "id": "1fLvePhd_kir"
      }
    },
    {
      "cell_type": "markdown",
      "source": [
        "#### OLS Regression\n",
        "- **MSE**: 0.7720292538500014\n",
        "- **R²**: 0.9895994640579348\n",
        "\n",
        "#### KNN Regression\n",
        "- **MSE**: 78.77356962273824\n",
        "- **R²**: -0.06121282070646239\n",
        "\n",
        "### Analysis\n",
        "The OLS regression model significantly outperforms the KNN regression model based on the given metrics. The Mean Squared Error (MSE) for the OLS model is very low at approximately 0.77, indicating that the model's predictions are very close to the actual values. Additionally, the R-squared (R²) value for the OLS model is approximately 0.99, suggesting that the model explains almost all the variability in the target variable.\n",
        "\n",
        "On the other hand, the KNN regression model has a very high MSE of approximately 78.77, indicating that the model's predictions are far from the actual values. Furthermore, the negative R-squared value (-0.06) indicates that the KNN model performs worse than a horizontal line (mean prediction), which is the lowest possible performance in regression tasks.\n",
        "\n",
        "### Conclusion\n",
        "Given the results, the OLS regression model is clearly the better choice for predicting the closing price of Apple stock in this dataset. The OLS model's near-perfect R² value and very low MSE demonstrate its superiority in capturing the linear relationships within the data.\n",
        "\n",
        "### Reasons for OLS Superiority\n",
        "- **Linear Relationship**: The OLS model assumes a linear relationship between the features and the target variable, which appears to be valid for this dataset. The stock prices may exhibit linear trends that the OLS model can effectively capture.\n",
        "- **High Dimensionality and KNN**: KNN regression can struggle with high-dimensional data due to the curse of dimensionality. In this case, the four features used (Open, High, Low, Volume) might not provide a sufficiently clear pattern for KNN to perform well, especially without extensive tuning.\n",
        "\n",
        "### Situations for Model Preference\n",
        "- **OLS Preference**: In datasets where the relationship between features and target is approximately linear and the features are not too numerous, OLS regression will generally perform better.\n",
        "- **KNN Preference**: KNN regression might be preferred in scenarios where the relationship between the features and the target variable is non-linear and there is sufficient data to capture the neighborhood effects. Extensive parameter tuning and feature scaling can also help improve KNN performance.\n",
        "\n",
        "In conclusion, for the Apple stock dataset used in this analysis, the OLS regression model is unambiguously better. This is primarily due to the linear nature of the relationship between the features and the target variable, which the OLS model can effectively capture."
      ],
      "metadata": {
        "id": "stOc64Zs_rRn"
      }
    },
    {
      "cell_type": "markdown",
      "source": [
        "# Predictions (OLS)"
      ],
      "metadata": {
        "id": "VYHbj4J3BlKc"
      }
    },
    {
      "cell_type": "code",
      "source": [
        "# Hypothetical feature values for June 1, 2024\n",
        "new_data = {\n",
        "    'Open': [192.00],\n",
        "    'High': [195.00],\n",
        "    'Low': [190.00],\n",
        "    'Volume': [50000000]\n",
        "}\n",
        "\n",
        "# Convert to DataFrame\n",
        "new_data_df = pd.DataFrame(new_data)\n",
        "\n",
        "# Use the trained OLS model to predict the closing price\n",
        "predicted_close_price = ols_model.predict(new_data_df)\n",
        "\n",
        "print(f'The predicted closing price for June 1, 2024, is: {predicted_close_price[0]:.2f}')"
      ],
      "metadata": {
        "colab": {
          "base_uri": "https://localhost:8080/"
        },
        "id": "GqzV9otz_nHB",
        "outputId": "13699c1e-0553-49a6-e3ad-7e682b0732f4"
      },
      "execution_count": 14,
      "outputs": [
        {
          "output_type": "stream",
          "name": "stdout",
          "text": [
            "The predicted closing price for June 1, 2024, is: 192.87\n"
          ]
        }
      ]
    },
    {
      "cell_type": "markdown",
      "source": [
        "# The predicted closing price for June 1, 2024, is: 192.87"
      ],
      "metadata": {
        "id": "7SBpg6EtDbPC"
      }
    },
    {
      "cell_type": "code",
      "source": [],
      "metadata": {
        "id": "7SZdWxc8CMtK"
      },
      "execution_count": null,
      "outputs": []
    }
  ]
}